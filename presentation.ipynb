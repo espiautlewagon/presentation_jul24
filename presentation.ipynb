{
 "cells": [
  {
   "cell_type": "code",
   "execution_count": null,
   "id": "7f25b24e",
   "metadata": {
    "slideshow": {
     "slide_type": "skip"
    }
   },
   "outputs": [],
   "source": [
    "%load_ext autoreload\n",
    "%autoreload 2"
   ]
  },
  {
   "cell_type": "code",
   "execution_count": 23,
   "id": "184b21e4",
   "metadata": {
    "slideshow": {
     "slide_type": "skip"
    }
   },
   "outputs": [],
   "source": [
    "import pandas as pd\n",
    "import numpy as np\n",
    "import seaborn as sns\n",
    "import matplotlib.pyplot as plt\n",
    "\n",
    "from olist.seller import Seller\n",
    "from olist.product import Product\n",
    "from olist.data import Olist\n",
    "from olist.order import Order\n",
    "from ipywidgets import interact, IntSlider, Dropdown"
   ]
  },
  {
   "cell_type": "code",
   "execution_count": 24,
   "id": "698dd711",
   "metadata": {
    "slideshow": {
     "slide_type": "skip"
    }
   },
   "outputs": [],
   "source": [
    "olist = Olist()\n",
    "data_olist = olist.get_data()"
   ]
  },
  {
   "cell_type": "code",
   "execution_count": 25,
   "id": "31ab96ec",
   "metadata": {
    "slideshow": {
     "slide_type": "skip"
    }
   },
   "outputs": [],
   "source": [
    "seller = Seller()\n",
    "data_sellers = seller.get_training_data()"
   ]
  },
  {
   "cell_type": "code",
   "execution_count": 26,
   "id": "fb2bd524",
   "metadata": {
    "slideshow": {
     "slide_type": "skip"
    }
   },
   "outputs": [
    {
     "data": {
      "text/html": [
       "<div>\n",
       "<style scoped>\n",
       "    .dataframe tbody tr th:only-of-type {\n",
       "        vertical-align: middle;\n",
       "    }\n",
       "\n",
       "    .dataframe tbody tr th {\n",
       "        vertical-align: top;\n",
       "    }\n",
       "\n",
       "    .dataframe thead th {\n",
       "        text-align: right;\n",
       "    }\n",
       "</style>\n",
       "<table border=\"1\" class=\"dataframe\">\n",
       "  <thead>\n",
       "    <tr style=\"text-align: right;\">\n",
       "      <th></th>\n",
       "      <th>seller_id</th>\n",
       "      <th>seller_city</th>\n",
       "      <th>seller_state</th>\n",
       "      <th>delay_to_carrier</th>\n",
       "      <th>wait_time</th>\n",
       "      <th>date_first_sale</th>\n",
       "      <th>date_last_sale</th>\n",
       "      <th>months_on_olist</th>\n",
       "      <th>n_orders</th>\n",
       "      <th>quantity</th>\n",
       "      <th>...</th>\n",
       "      <th>sales</th>\n",
       "      <th>sales_fees</th>\n",
       "      <th>subscription_fees</th>\n",
       "      <th>revenues</th>\n",
       "      <th>cost</th>\n",
       "      <th>number_of_items</th>\n",
       "      <th>profits</th>\n",
       "      <th>share_of_five_stars</th>\n",
       "      <th>share_of_one_stars</th>\n",
       "      <th>review_score</th>\n",
       "    </tr>\n",
       "  </thead>\n",
       "  <tbody>\n",
       "    <tr>\n",
       "      <th>0</th>\n",
       "      <td>3442f8959a84dea7ee197c632cb2df15</td>\n",
       "      <td>campinas</td>\n",
       "      <td>SP</td>\n",
       "      <td>0.000000</td>\n",
       "      <td>13.018588</td>\n",
       "      <td>2017-05-05 16:25:11</td>\n",
       "      <td>2017-08-30 12:50:19</td>\n",
       "      <td>4.0</td>\n",
       "      <td>3</td>\n",
       "      <td>3</td>\n",
       "      <td>...</td>\n",
       "      <td>218.70</td>\n",
       "      <td>21.870</td>\n",
       "      <td>320.0</td>\n",
       "      <td>341.870</td>\n",
       "      <td>140</td>\n",
       "      <td>3</td>\n",
       "      <td>201.870</td>\n",
       "      <td>0.333333</td>\n",
       "      <td>0.333333</td>\n",
       "      <td>3.000000</td>\n",
       "    </tr>\n",
       "    <tr>\n",
       "      <th>1</th>\n",
       "      <td>d1b65fc7debc3361ea86b5f14c68d2e2</td>\n",
       "      <td>mogi guacu</td>\n",
       "      <td>SP</td>\n",
       "      <td>0.000000</td>\n",
       "      <td>9.065716</td>\n",
       "      <td>2017-03-29 02:10:34</td>\n",
       "      <td>2018-06-06 20:15:21</td>\n",
       "      <td>14.0</td>\n",
       "      <td>40</td>\n",
       "      <td>41</td>\n",
       "      <td>...</td>\n",
       "      <td>11703.07</td>\n",
       "      <td>1170.307</td>\n",
       "      <td>1120.0</td>\n",
       "      <td>2290.307</td>\n",
       "      <td>240</td>\n",
       "      <td>41</td>\n",
       "      <td>2050.307</td>\n",
       "      <td>0.731707</td>\n",
       "      <td>0.048780</td>\n",
       "      <td>4.560976</td>\n",
       "    </tr>\n",
       "    <tr>\n",
       "      <th>2</th>\n",
       "      <td>ce3ad9de960102d0677a81f5d0bb7b2d</td>\n",
       "      <td>rio de janeiro</td>\n",
       "      <td>RJ</td>\n",
       "      <td>0.000000</td>\n",
       "      <td>4.042292</td>\n",
       "      <td>2018-07-30 12:44:49</td>\n",
       "      <td>2018-07-30 12:44:49</td>\n",
       "      <td>0.0</td>\n",
       "      <td>1</td>\n",
       "      <td>1</td>\n",
       "      <td>...</td>\n",
       "      <td>158.00</td>\n",
       "      <td>15.800</td>\n",
       "      <td>0.0</td>\n",
       "      <td>15.800</td>\n",
       "      <td>0</td>\n",
       "      <td>1</td>\n",
       "      <td>15.800</td>\n",
       "      <td>1.000000</td>\n",
       "      <td>0.000000</td>\n",
       "      <td>5.000000</td>\n",
       "    </tr>\n",
       "    <tr>\n",
       "      <th>3</th>\n",
       "      <td>c0f3eea2e14555b6faeea3dd58c1b1c3</td>\n",
       "      <td>sao paulo</td>\n",
       "      <td>SP</td>\n",
       "      <td>0.000000</td>\n",
       "      <td>5.667187</td>\n",
       "      <td>2018-08-03 00:44:08</td>\n",
       "      <td>2018-08-03 00:44:08</td>\n",
       "      <td>0.0</td>\n",
       "      <td>1</td>\n",
       "      <td>1</td>\n",
       "      <td>...</td>\n",
       "      <td>79.99</td>\n",
       "      <td>7.999</td>\n",
       "      <td>0.0</td>\n",
       "      <td>7.999</td>\n",
       "      <td>0</td>\n",
       "      <td>1</td>\n",
       "      <td>7.999</td>\n",
       "      <td>1.000000</td>\n",
       "      <td>0.000000</td>\n",
       "      <td>5.000000</td>\n",
       "    </tr>\n",
       "    <tr>\n",
       "      <th>4</th>\n",
       "      <td>51a04a8a6bdcb23deccc82b0b80742cf</td>\n",
       "      <td>braganca paulista</td>\n",
       "      <td>SP</td>\n",
       "      <td>3.353727</td>\n",
       "      <td>35.314861</td>\n",
       "      <td>2017-11-14 12:15:25</td>\n",
       "      <td>2017-11-14 12:15:25</td>\n",
       "      <td>0.0</td>\n",
       "      <td>1</td>\n",
       "      <td>1</td>\n",
       "      <td>...</td>\n",
       "      <td>167.99</td>\n",
       "      <td>16.799</td>\n",
       "      <td>0.0</td>\n",
       "      <td>16.799</td>\n",
       "      <td>100</td>\n",
       "      <td>1</td>\n",
       "      <td>-83.201</td>\n",
       "      <td>0.000000</td>\n",
       "      <td>1.000000</td>\n",
       "      <td>1.000000</td>\n",
       "    </tr>\n",
       "  </tbody>\n",
       "</table>\n",
       "<p>5 rows × 21 columns</p>\n",
       "</div>"
      ],
      "text/plain": [
       "                          seller_id        seller_city seller_state  \\\n",
       "0  3442f8959a84dea7ee197c632cb2df15           campinas           SP   \n",
       "1  d1b65fc7debc3361ea86b5f14c68d2e2         mogi guacu           SP   \n",
       "2  ce3ad9de960102d0677a81f5d0bb7b2d     rio de janeiro           RJ   \n",
       "3  c0f3eea2e14555b6faeea3dd58c1b1c3          sao paulo           SP   \n",
       "4  51a04a8a6bdcb23deccc82b0b80742cf  braganca paulista           SP   \n",
       "\n",
       "   delay_to_carrier  wait_time     date_first_sale      date_last_sale  \\\n",
       "0          0.000000  13.018588 2017-05-05 16:25:11 2017-08-30 12:50:19   \n",
       "1          0.000000   9.065716 2017-03-29 02:10:34 2018-06-06 20:15:21   \n",
       "2          0.000000   4.042292 2018-07-30 12:44:49 2018-07-30 12:44:49   \n",
       "3          0.000000   5.667187 2018-08-03 00:44:08 2018-08-03 00:44:08   \n",
       "4          3.353727  35.314861 2017-11-14 12:15:25 2017-11-14 12:15:25   \n",
       "\n",
       "   months_on_olist  n_orders  quantity  ...     sales  sales_fees  \\\n",
       "0              4.0         3         3  ...    218.70      21.870   \n",
       "1             14.0        40        41  ...  11703.07    1170.307   \n",
       "2              0.0         1         1  ...    158.00      15.800   \n",
       "3              0.0         1         1  ...     79.99       7.999   \n",
       "4              0.0         1         1  ...    167.99      16.799   \n",
       "\n",
       "   subscription_fees  revenues  cost  number_of_items   profits  \\\n",
       "0              320.0   341.870   140                3   201.870   \n",
       "1             1120.0  2290.307   240               41  2050.307   \n",
       "2                0.0    15.800     0                1    15.800   \n",
       "3                0.0     7.999     0                1     7.999   \n",
       "4                0.0    16.799   100                1   -83.201   \n",
       "\n",
       "   share_of_five_stars  share_of_one_stars  review_score  \n",
       "0             0.333333            0.333333      3.000000  \n",
       "1             0.731707            0.048780      4.560976  \n",
       "2             1.000000            0.000000      5.000000  \n",
       "3             1.000000            0.000000      5.000000  \n",
       "4             0.000000            1.000000      1.000000  \n",
       "\n",
       "[5 rows x 21 columns]"
      ]
     },
     "execution_count": 26,
     "metadata": {},
     "output_type": "execute_result"
    }
   ],
   "source": [
    "data_sellers.head()"
   ]
  },
  {
   "cell_type": "code",
   "execution_count": 27,
   "id": "9dbf0162",
   "metadata": {
    "scrolled": false,
    "slideshow": {
     "slide_type": "skip"
    }
   },
   "outputs": [
    {
     "name": "stderr",
     "output_type": "stream",
     "text": [
      "/home/lewagon/code/espiautlewagon/04-Decision-Science/01-Project-Setup/data-context-and-setup/olist/order.py:33: SettingWithCopyWarning: \n",
      "A value is trying to be set on a copy of a slice from a DataFrame.\n",
      "Try using .loc[row_indexer,col_indexer] = value instead\n",
      "\n",
      "See the caveats in the documentation: https://pandas.pydata.org/pandas-docs/stable/user_guide/indexing.html#returning-a-view-versus-a-copy\n",
      "  delivered_orders[i] = pd.to_datetime(delivered_orders[i])\n",
      "/home/lewagon/code/espiautlewagon/04-Decision-Science/01-Project-Setup/data-context-and-setup/olist/order.py:33: SettingWithCopyWarning: \n",
      "A value is trying to be set on a copy of a slice from a DataFrame.\n",
      "Try using .loc[row_indexer,col_indexer] = value instead\n",
      "\n",
      "See the caveats in the documentation: https://pandas.pydata.org/pandas-docs/stable/user_guide/indexing.html#returning-a-view-versus-a-copy\n",
      "  delivered_orders[i] = pd.to_datetime(delivered_orders[i])\n",
      "/home/lewagon/code/espiautlewagon/04-Decision-Science/01-Project-Setup/data-context-and-setup/olist/order.py:33: SettingWithCopyWarning: \n",
      "A value is trying to be set on a copy of a slice from a DataFrame.\n",
      "Try using .loc[row_indexer,col_indexer] = value instead\n",
      "\n",
      "See the caveats in the documentation: https://pandas.pydata.org/pandas-docs/stable/user_guide/indexing.html#returning-a-view-versus-a-copy\n",
      "  delivered_orders[i] = pd.to_datetime(delivered_orders[i])\n",
      "/home/lewagon/code/espiautlewagon/04-Decision-Science/01-Project-Setup/data-context-and-setup/olist/order.py:33: SettingWithCopyWarning: \n",
      "A value is trying to be set on a copy of a slice from a DataFrame.\n",
      "Try using .loc[row_indexer,col_indexer] = value instead\n",
      "\n",
      "See the caveats in the documentation: https://pandas.pydata.org/pandas-docs/stable/user_guide/indexing.html#returning-a-view-versus-a-copy\n",
      "  delivered_orders[i] = pd.to_datetime(delivered_orders[i])\n",
      "/home/lewagon/code/espiautlewagon/04-Decision-Science/01-Project-Setup/data-context-and-setup/olist/order.py:33: SettingWithCopyWarning: \n",
      "A value is trying to be set on a copy of a slice from a DataFrame.\n",
      "Try using .loc[row_indexer,col_indexer] = value instead\n",
      "\n",
      "See the caveats in the documentation: https://pandas.pydata.org/pandas-docs/stable/user_guide/indexing.html#returning-a-view-versus-a-copy\n",
      "  delivered_orders[i] = pd.to_datetime(delivered_orders[i])\n"
     ]
    }
   ],
   "source": [
    "order = Order()\n",
    "data_orders = order.get_training_data()"
   ]
  },
  {
   "cell_type": "code",
   "execution_count": 28,
   "id": "d693b0f3",
   "metadata": {
    "slideshow": {
     "slide_type": "skip"
    }
   },
   "outputs": [
    {
     "data": {
      "text/html": [
       "<div>\n",
       "<style scoped>\n",
       "    .dataframe tbody tr th:only-of-type {\n",
       "        vertical-align: middle;\n",
       "    }\n",
       "\n",
       "    .dataframe tbody tr th {\n",
       "        vertical-align: top;\n",
       "    }\n",
       "\n",
       "    .dataframe thead th {\n",
       "        text-align: right;\n",
       "    }\n",
       "</style>\n",
       "<table border=\"1\" class=\"dataframe\">\n",
       "  <thead>\n",
       "    <tr style=\"text-align: right;\">\n",
       "      <th></th>\n",
       "      <th>order_id</th>\n",
       "      <th>wait_time</th>\n",
       "      <th>expected_wait_time</th>\n",
       "      <th>delay_vs_expected</th>\n",
       "      <th>order_status</th>\n",
       "      <th>dim_is_five_star</th>\n",
       "      <th>dim_is_one_star</th>\n",
       "      <th>review_score</th>\n",
       "      <th>number_of_items</th>\n",
       "      <th>number_of_sellers</th>\n",
       "      <th>price</th>\n",
       "      <th>freight_value</th>\n",
       "      <th>distance_seller_customer</th>\n",
       "    </tr>\n",
       "  </thead>\n",
       "  <tbody>\n",
       "    <tr>\n",
       "      <th>0</th>\n",
       "      <td>e481f51cbdc54678b7cc49136f2d6af7</td>\n",
       "      <td>8.0</td>\n",
       "      <td>15</td>\n",
       "      <td>7.0</td>\n",
       "      <td>delivered</td>\n",
       "      <td>False</td>\n",
       "      <td>False</td>\n",
       "      <td>4</td>\n",
       "      <td>1</td>\n",
       "      <td>1</td>\n",
       "      <td>29.99</td>\n",
       "      <td>8.72</td>\n",
       "      <td>18.063837</td>\n",
       "    </tr>\n",
       "    <tr>\n",
       "      <th>1</th>\n",
       "      <td>53cdb2fc8bc7dce0b6741e2150273451</td>\n",
       "      <td>13.0</td>\n",
       "      <td>19</td>\n",
       "      <td>6.0</td>\n",
       "      <td>delivered</td>\n",
       "      <td>False</td>\n",
       "      <td>False</td>\n",
       "      <td>4</td>\n",
       "      <td>1</td>\n",
       "      <td>1</td>\n",
       "      <td>118.70</td>\n",
       "      <td>22.76</td>\n",
       "      <td>856.292580</td>\n",
       "    </tr>\n",
       "    <tr>\n",
       "      <th>2</th>\n",
       "      <td>47770eb9100c2d0c44946d9cf07ec65d</td>\n",
       "      <td>9.0</td>\n",
       "      <td>26</td>\n",
       "      <td>17.0</td>\n",
       "      <td>delivered</td>\n",
       "      <td>True</td>\n",
       "      <td>False</td>\n",
       "      <td>5</td>\n",
       "      <td>1</td>\n",
       "      <td>1</td>\n",
       "      <td>159.90</td>\n",
       "      <td>19.22</td>\n",
       "      <td>514.130333</td>\n",
       "    </tr>\n",
       "    <tr>\n",
       "      <th>3</th>\n",
       "      <td>949d5b44dbf5de918fe9c16f97b45f8a</td>\n",
       "      <td>13.0</td>\n",
       "      <td>26</td>\n",
       "      <td>13.0</td>\n",
       "      <td>delivered</td>\n",
       "      <td>True</td>\n",
       "      <td>False</td>\n",
       "      <td>5</td>\n",
       "      <td>1</td>\n",
       "      <td>1</td>\n",
       "      <td>45.00</td>\n",
       "      <td>27.20</td>\n",
       "      <td>1822.800366</td>\n",
       "    </tr>\n",
       "    <tr>\n",
       "      <th>4</th>\n",
       "      <td>ad21c59c0840e6cb83a9ceb5573f8159</td>\n",
       "      <td>2.0</td>\n",
       "      <td>12</td>\n",
       "      <td>10.0</td>\n",
       "      <td>delivered</td>\n",
       "      <td>True</td>\n",
       "      <td>False</td>\n",
       "      <td>5</td>\n",
       "      <td>1</td>\n",
       "      <td>1</td>\n",
       "      <td>19.90</td>\n",
       "      <td>8.72</td>\n",
       "      <td>30.174037</td>\n",
       "    </tr>\n",
       "  </tbody>\n",
       "</table>\n",
       "</div>"
      ],
      "text/plain": [
       "                           order_id  wait_time  expected_wait_time  \\\n",
       "0  e481f51cbdc54678b7cc49136f2d6af7        8.0                  15   \n",
       "1  53cdb2fc8bc7dce0b6741e2150273451       13.0                  19   \n",
       "2  47770eb9100c2d0c44946d9cf07ec65d        9.0                  26   \n",
       "3  949d5b44dbf5de918fe9c16f97b45f8a       13.0                  26   \n",
       "4  ad21c59c0840e6cb83a9ceb5573f8159        2.0                  12   \n",
       "\n",
       "   delay_vs_expected order_status  dim_is_five_star  dim_is_one_star  \\\n",
       "0                7.0    delivered             False            False   \n",
       "1                6.0    delivered             False            False   \n",
       "2               17.0    delivered              True            False   \n",
       "3               13.0    delivered              True            False   \n",
       "4               10.0    delivered              True            False   \n",
       "\n",
       "   review_score  number_of_items  number_of_sellers   price  freight_value  \\\n",
       "0             4                1                  1   29.99           8.72   \n",
       "1             4                1                  1  118.70          22.76   \n",
       "2             5                1                  1  159.90          19.22   \n",
       "3             5                1                  1   45.00          27.20   \n",
       "4             5                1                  1   19.90           8.72   \n",
       "\n",
       "   distance_seller_customer  \n",
       "0                 18.063837  \n",
       "1                856.292580  \n",
       "2                514.130333  \n",
       "3               1822.800366  \n",
       "4                 30.174037  "
      ]
     },
     "execution_count": 28,
     "metadata": {},
     "output_type": "execute_result"
    }
   ],
   "source": [
    "data_orders.head()"
   ]
  },
  {
   "cell_type": "code",
   "execution_count": 31,
   "id": "f9143143",
   "metadata": {
    "slideshow": {
     "slide_type": "skip"
    }
   },
   "outputs": [
    {
     "name": "stdout",
     "output_type": "stream",
     "text": [
      "Max Profit: 1070976.1160162983 BRL\n",
      "Removed Sellers: 856\n"
     ]
    },
    {
     "data": {
      "application/vnd.jupyter.widget-view+json": {
       "model_id": "bf6b4e16569d4c049a6bd08fac2aa415",
       "version_major": 2,
       "version_minor": 0
      },
      "text/plain": [
       "interactive(children=(IntSlider(value=1, description='n_removed', max=2967, min=1), Dropdown(description='Trai…"
      ]
     },
     "metadata": {},
     "output_type": "display_data"
    },
    {
     "data": {
      "text/plain": [
       "<function __main__.plot_update(n_removed, column_training, column_order_items)>"
      ]
     },
     "execution_count": 31,
     "metadata": {},
     "output_type": "execute_result"
    }
   ],
   "source": [
    "# Load the geolocation data\n",
    "data_geoloc = data_olist[\"geolocation\"].drop_duplicates(subset=\"geolocation_state\")\n",
    "data_sellers = data_sellers.sort_values(by=\"profits\")\n",
    "data_items = data_olist[\"order_items\"]\n",
    "\n",
    "# Define constants\n",
    "alpha = 3157.27\n",
    "beta = 978.23\n",
    "it_cost_init = 500_000\n",
    "\n",
    "\n",
    "# Define the it_cost_update function\n",
    "def it_cost_update(n_sellers, n_items):\n",
    "    return alpha * np.sqrt(n_sellers) + beta * np.sqrt(n_items)\n",
    "\n",
    "\n",
    "# Perform the analysis to get the result\n",
    "def analysis(df):\n",
    "    data_sellers_sorted = df.sort_values(by=\"profits\")\n",
    "    result = []\n",
    "    profit_max = 0\n",
    "    n_sellers_removed = 0\n",
    "\n",
    "    for i in range(len(data_sellers_sorted)):\n",
    "        n_sellers = i\n",
    "        n_sellers_remaining = len(data_sellers_sorted) - i\n",
    "        n_items_remaining = data_sellers_sorted.iloc[i:][\"number_of_items\"].sum()\n",
    "        \n",
    "        it_costs = it_cost_update(n_sellers_remaining, n_items_remaining)\n",
    "        \n",
    "        profit = data_sellers_sorted.iloc[i:][\"profits\"].sum() - it_costs\n",
    "        \n",
    "        if profit >= profit_max:\n",
    "            profit_max = profit\n",
    "            n_sellers_removed = i + 1\n",
    "        result.append((n_sellers, profit))\n",
    "\n",
    "    print(f\"Max Profit: {profit_max} BRL\")\n",
    "    print(f\"Removed Sellers: {n_sellers_removed}\")\n",
    "\n",
    "    return result, n_sellers_removed, profit_max\n",
    "\n",
    "# Interactive function to update the plot\n",
    "def plot_update(n_removed, column_training, column_order_items):\n",
    "    fig, axs = plt.subplots(2, 2, figsize=(20, 20))\n",
    "\n",
    "    # Plot the profit data\n",
    "    ax1 = axs[0, 0]\n",
    "    ax1.plot(data_profit[\"n_sellers_removed\"], data_profit[\"profit\"], marker=\"o\")\n",
    "    ax1.axvline(\n",
    "        x=n_removed, color=\"r\", linestyle=\"--\", label=f\"Removed Sellers: {n_removed}\"\n",
    "    )\n",
    "    ax1.set_title(\"Increasing profit by removing worst performing sellers\")\n",
    "    ax1.set_xlabel(\"Number of Removed Sellers\")\n",
    "    ax1.set_ylabel(\"Total Profit (BRL)\")\n",
    "    ax1.grid(True)\n",
    "    ax1.legend()\n",
    "\n",
    "    # Update the map\n",
    "    sellers_worst = worst_sellers.head(n_removed)\n",
    "\n",
    "    # Plot the most sold products by the removed sellers\n",
    "    ax3 = axs[1, 0]\n",
    "    seller_ids_removed = sellers_worst[\"seller_id\"]\n",
    "    order_items_removed = data_items[\n",
    "        data_items[\"seller_id\"].isin(seller_ids_removed)\n",
    "    ]\n",
    "    most_sold_products = order_items_removed[column_order_items].value_counts().head(10)\n",
    "    most_sold_products.plot(kind=\"bar\", ax=ax3, color=\"skyblue\")\n",
    "    ax3.set_title(f\"Most Common {column_order_items} by Removed Sellers\")\n",
    "    ax3.set_xlabel(column_order_items)\n",
    "    ax3.set_ylabel(\"Count\")\n",
    "\n",
    "    # Plot the chosen column data for removed sellers\n",
    "    ax4 = axs[1, 1]\n",
    "    column_data = data_sellers[data_sellers[\"seller_id\"].isin(seller_ids_removed)][\n",
    "        column_training\n",
    "    ]  # .groupby('seller_id')[column_training].mean().astype(int)\n",
    "    column_data.hist(ax=ax4, color=\"lightgreen\", bins=20)\n",
    "    ax4.set_title(f\"Distribution of {column_training} from Removed Sellers\")\n",
    "    ax4.set_xlabel(f\"{column_training} per seller\")\n",
    "    ax4.set_ylabel(f\"{column_training} per seller\")\n",
    "\n",
    "    plt.tight_layout()\n",
    "    plt.show()\n",
    "\n",
    "\n",
    "# Analyze data\n",
    "result, n_sellers_removed, profit_max = analysis(data_sellers)\n",
    "data_profit = pd.DataFrame(result, columns=[\"n_sellers_removed\", \"profit\"])\n",
    "\n",
    "# Prepare the geolocation data\n",
    "data_sellers_sorted = data_sellers.sort_values(by=\"profits\")\n",
    "data_sellers_geoloc = pd.merge(\n",
    "    data_sellers_sorted, data_geoloc, left_on=\"seller_state\", right_on=\"geolocation_state\"\n",
    ")\n",
    "\n",
    "# Sort sellers by increasing profits and select the worst performing sellers\n",
    "worst_sellers = data_sellers_geoloc.sort_values(by=\"profits\")\n",
    "\n",
    "# Create a GeoDataFrame for the worst performing sellers\n",
    "gdf_worst_sellers = gpd.GeoDataFrame(\n",
    "    worst_sellers,\n",
    "    geometry=gpd.points_from_xy(\n",
    "        worst_sellers.geolocation_lng, worst_sellers.geolocation_lat\n",
    "    ),\n",
    "    crs=\"EPSG:4326\",\n",
    ")\n",
    "\n",
    "# Create interactive widgets\n",
    "columns_training = data_sellers.columns.tolist()\n",
    "columns_order_items = data_items.columns.tolist()\n",
    "interact(\n",
    "    plot_update,\n",
    "    n_removed=IntSlider(min=1, max=len(worst_sellers), step=1, value=1),\n",
    "    column_training=Dropdown(\n",
    "        options=columns_training,\n",
    "        value=\"review_score\",\n",
    "        description=\"Training Data Column:\",\n",
    "    ),\n",
    "    column_order_items=Dropdown(\n",
    "        options=columns_order_items,\n",
    "        value=\"product_id\",\n",
    "        description=\"Order Items Column:\",\n",
    "    ),\n",
    ")"
   ]
  },
  {
   "cell_type": "markdown",
   "id": "3f4df383",
   "metadata": {
    "slideshow": {
     "slide_type": "-"
    }
   },
   "source": [
    "# CEO-Report -  How could Olist improve its profit?\n"
   ]
  },
  {
   "cell_type": "markdown",
   "id": "03fdb4c9",
   "metadata": {
    "slideshow": {
     "slide_type": "slide"
    }
   },
   "source": [
    "**Assumptions:**\n",
    "\n",
    "<u>Revenues:</u> sales fees - Rewview-costs - IT-costs\n",
    "\n",
    "<u>Sales fees:</u> Olist takes a 10% cut on the product price (excl. freight) of each order\n",
    "<u>Subscription fees:</u> Olist charges 80 BRL by month per seller\n",
    "\n",
    "<u>Costs:</u>\n",
    "Reputation costs estimated per order with bad reviews (<= 3 stars)\n",
    "\n",
    "The IT costs formula is given by:\n",
    "$ \\text{IT-costs} = 3157.27 \\times \\sqrt{n_{\\text{sellers}}} + 978.23 \\times \\sqrt{n_{\\text{items}}}$\n",
    " "
   ]
  },
  {
   "cell_type": "markdown",
   "id": "3962494c",
   "metadata": {
    "slideshow": {
     "slide_type": "slide"
    }
   },
   "source": [
    "##  Olist can improve its profit by 50% up to 1 Mio. BRL by removing 3% of the sellers?"
   ]
  },
  {
   "cell_type": "markdown",
   "id": "ca547f4b",
   "metadata": {
    "slideshow": {
     "slide_type": "subslide"
    }
   },
   "source": [
    "### Exclude sellers"
   ]
  },
  {
   "cell_type": "code",
   "execution_count": 42,
   "id": "346034d2",
   "metadata": {
    "slideshow": {
     "slide_type": "subslide"
    }
   },
   "outputs": [
    {
     "data": {
      "image/png": "[encoded data removed]",
      "text/plain": [
       "<Figure size 640x480 with 1 Axes>"
      ]
     },
     "metadata": {},
     "output_type": "display_data"
    }
   ],
   "source": [
    "plt.plot(data_profit[\"n_sellers_removed\"], data_profit[\"profit\"], marker=\"o\")\n",
    "plt.axvline(x=500, color=\"r\", linestyle=\"--\", label=f\"Removed Sellers: {500}\")\n",
    "plt.title(\"Increasing profit by removing worst performing sellers\")\n",
    "plt.xlabel(\"Number of Removed Sellers\")\n",
    "plt.ylabel(\"Total Profit (BRL)\")\n",
    "plt.grid(True)\n",
    "plt.legend()\n",
    "\n",
    "plt.tight_layout()\n",
    "plt.show()"
   ]
  },
  {
   "cell_type": "markdown",
   "id": "5bca569d",
   "metadata": {
    "slideshow": {
     "slide_type": "slide"
    }
   },
   "source": [
    "### Remove products"
   ]
  },
  {
   "cell_type": "markdown",
   "id": "3b7075f8",
   "metadata": {
    "slideshow": {
     "slide_type": "slide"
    }
   },
   "source": [
    "### Exclude specific seller/customer pairs"
   ]
  },
  {
   "cell_type": "markdown",
   "id": "15f3ad4c",
   "metadata": {
    "slideshow": {
     "slide_type": "subslide"
    }
   },
   "source": [
    "#### Why?"
   ]
  },
  {
   "cell_type": "code",
   "execution_count": null,
   "id": "4566824d",
   "metadata": {
    "slideshow": {
     "slide_type": "skip"
    }
   },
   "outputs": [],
   "source": []
  },
  {
   "cell_type": "code",
   "execution_count": 11,
   "id": "346c2289",
   "metadata": {
    "slideshow": {
     "slide_type": "skip"
    }
   },
   "outputs": [
    {
     "name": "stdout",
     "output_type": "stream",
     "text": [
      "Max Profit: 1070976.1160162983 BRL\n",
      "Removed Sellers: 856\n"
     ]
    },
    {
     "data": {
      "application/vnd.jupyter.widget-view+json": {
       "model_id": "4919678a8c3e4797bda756989c6f7caa",
       "version_major": 2,
       "version_minor": 0
      },
      "text/plain": [
       "interactive(children=(IntSlider(value=1, description='n_removed', max=2967, min=1), Dropdown(description='Trai…"
      ]
     },
     "metadata": {},
     "output_type": "display_data"
    },
    {
     "data": {
      "text/plain": [
       "<function __main__.plot_update(n_removed, column_training, column_order_items)>"
      ]
     },
     "execution_count": 11,
     "metadata": {},
     "output_type": "execute_result"
    }
   ],
   "source": []
  },
  {
   "cell_type": "code",
   "execution_count": 5,
   "id": "72d0728f",
   "metadata": {
    "scrolled": false,
    "slideshow": {
     "slide_type": "skip"
    }
   },
   "outputs": [
    {
     "name": "stderr",
     "output_type": "stream",
     "text": [
      "/tmp/ipykernel_15892/877245202.py:7: SettingWithCopyWarning: \n",
      "A value is trying to be set on a copy of a slice from a DataFrame\n",
      "\n",
      "See the caveats in the documentation: https://pandas.pydata.org/pandas-docs/stable/user_guide/indexing.html#returning-a-view-versus-a-copy\n",
      "  order_ids.drop_duplicates(inplace=True)\n"
     ]
    },
    {
     "data": {
      "image/png": "[encoded data removed]",
      "text/plain": [
       "<Figure size 1000x500 with 1 Axes>"
      ]
     },
     "metadata": {},
     "output_type": "display_data"
    },
    {
     "data": {
      "image/png": "[encoded data removed]",
      "text/plain": [
       "<Figure size 1000x500 with 1 Axes>"
      ]
     },
     "metadata": {},
     "output_type": "display_data"
    }
   ],
   "source": [
    "order_order_items = pd.DataFrame.merge(data['orders'], data['order_items'])\n",
    "order_order_items_reviews = order_order_items.merge(data['order_reviews'][['review_id', 'review_score', 'order_id']], on='order_id')\n",
    "order_order_items_reviews = order_order_items_reviews[['customer_id', 'order_id', 'seller_id', 'review_score', 'product_id']]\n",
    "product = order_order_items_reviews.query(\"product_id == '422879e10f46682990de24d770e7f83d'\")\n",
    "other_products = order_order_items_reviews.query(\"product_id != '422879e10f46682990de24d770e7f83d'\")\n",
    "order_ids = product.query(\"review_score == 1\")\n",
    "order_ids.drop_duplicates(inplace=True)\n",
    "#order_order_items_reviews = order_order_items_reviews.drop_duplicates()\n",
    "#print(order_ids)\n",
    "\n",
    "fig_1 = plt.figure(figsize=(10, 5))\n",
    "sns.histplot(data=product, x='review_score', kde=True)\n",
    "\n",
    "fig_2 = plt.figure(figsize=(10, 5))\n",
    "sns.histplot(data=other_products, x='review_score', kde=True)\n",
    "plt.show()"
   ]
  }
 ],
 "metadata": {
  "celltoolbar": "Slideshow",
  "kernelspec": {
   "display_name": "Python 3 (ipykernel)",
   "language": "python",
   "name": "python3"
  },
  "language_info": {
   "codemirror_mode": {
    "name": "ipython",
    "version": 3
   },
   "file_extension": ".py",
   "mimetype": "text/x-python",
   "name": "python",
   "nbconvert_exporter": "python",
   "pygments_lexer": "ipython3",
   "version": "3.10.6"
  },
  "toc": {
   "base_numbering": 1,
   "nav_menu": {},
   "number_sections": true,
   "sideBar": true,
   "skip_h1_title": false,
   "title_cell": "Table of Contents",
   "title_sidebar": "Contents",
   "toc_cell": false,
   "toc_position": {},
   "toc_section_display": true,
   "toc_window_display": false
  }
 },
 "nbformat": 4,
 "nbformat_minor": 5
}
